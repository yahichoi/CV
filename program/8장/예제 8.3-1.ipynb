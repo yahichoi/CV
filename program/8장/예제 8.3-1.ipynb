{
 "cells": [
  {
   "cell_type": "code",
   "execution_count": null,
   "id": "48888509",
   "metadata": {},
   "outputs": [],
   "source": [
    "# 예제 8.3-1 프로그램\n",
    "\n",
    "import cv2\n",
    "import numpy as np\n",
    "\n",
    "img = cv2.imread('sunflower.jpg',-1)\n",
    "gray = cv2.cvtColor(img, cv2.COLOR_BGR2GRAY)\n",
    "\n",
    "# SIFT 추출기 생성\n",
    "sift = cv2.xfeatures2d.SIFT_create(contrastThreshold=0.09)\n",
    "\n",
    "# 키 포인트 검출과 기술자 계산\n",
    "keypoints,descriptor=sift.detectAndCompute(gray, None)\n",
    "\n",
    "print('num of keypoints =', len(keypoints)), print()\n",
    "print('   x      y     size response  angle      octave     layer')\n",
    "\n",
    "for i in range(7) :\n",
    "    \n",
    "    # unpacking octave information\n",
    "    octave = keypoints[i].octave & 255\n",
    "    layer = (keypoints[i].octave >> 8) & 255\n",
    "    octave = octave if  octave < 128 else (-128 | octave)\n",
    "    scale = 1.0/(1<<octave) if octave>=0 else (float)(1<<-octave) \n",
    "      \n",
    "    print('%6.1f'%keypoints[i].pt[0],\n",
    "    '%6.1f'%keypoints[i].pt[1],'%6.1f'%keypoints[i].size, \n",
    "    '%6.2f'%keypoints[i].response, '   %6.1f'%keypoints[i].angle,\n",
    "    '   %6.0f'%octave,'   %6.0f'%layer) \n",
    "    \n",
    "print(), print('descriptor shape:', descriptor.shape)\n",
    "\n",
    "# 실수 출력 포맷 셋팅\n",
    "float_formatter = \"{:8.1f}\".format\n",
    "np.set_printoptions(formatter={'float_kind':float_formatter})\n",
    "print(descriptor[0])\n",
    "\n",
    "# 키 포인트 그리기\n",
    "img_draw = cv2.drawKeypoints(img, keypoints, None,\n",
    "           flags=cv2.DRAW_MATCHES_FLAGS_DRAW_RICH_KEYPOINTS)\n",
    "\n",
    "# 결과 출력\n",
    "cv2.imshow('SIFT', img_draw)\n",
    "cv2.waitKey()\n",
    "cv2.destroyAllWindows()\n",
    " "
   ]
  }
 ],
 "metadata": {
  "kernelspec": {
   "display_name": "Python 3 (ipykernel)",
   "language": "python",
   "name": "python3"
  },
  "language_info": {
   "codemirror_mode": {
    "name": "ipython",
    "version": 3
   },
   "file_extension": ".py",
   "mimetype": "text/x-python",
   "name": "python",
   "nbconvert_exporter": "python",
   "pygments_lexer": "ipython3",
   "version": "3.9.12"
  }
 },
 "nbformat": 4,
 "nbformat_minor": 5
}
