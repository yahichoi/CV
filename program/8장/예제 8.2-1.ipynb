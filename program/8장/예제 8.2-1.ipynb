{
 "cells": [
  {
   "cell_type": "code",
   "execution_count": null,
   "id": "bbbeb30d",
   "metadata": {},
   "outputs": [],
   "source": [
    "# 예제 8.2-1 프로그렘\n",
    "# blob detection using blob_dog\n",
    "\n",
    "import cv2\n",
    "import numpy as np\n",
    "from math import sqrt\n",
    "from skimage import data\n",
    "from skimage.feature import blob_dog\n",
    "import matplotlib.pyplot as plt\n",
    "\n",
    "image = data.hubble_deep_field()[0:256, 0:256]\n",
    "image_gray = cv2.cvtColor(image, cv2.COLOR_BGR2GRAY)\n",
    "\n",
    "blobs_dog = blob_dog(image_gray, max_sigma=30, threshold=0.15)\n",
    "print('number of detected blobs = ', blobs_dog.shape[0])\n",
    "\n",
    "# 실수 출력 포맷 셋팅\n",
    "float_formatter = \"{:6.1f}\".format\n",
    "np.set_printoptions(formatter={'float_kind':float_formatter})\n",
    "\n",
    "print()\n",
    "print('firts 5 detected blobs:')\n",
    "print('     y      x     sigma')\n",
    "print(blobs_dog[:5,:])\n",
    "\n",
    "fig, ax = plt.subplots(1,2,figsize=(8,4))\n",
    "ax[0].set_title('Original image', fontsize=15)\n",
    "ax[0].imshow(image, interpolation='nearest')\n",
    "\n",
    "ax[1].imshow(image)\n",
    "for blob in blobs_dog:\n",
    "    y, x, r = blob\n",
    "    ax[1].add_patch(plt.Circle((x, y),r,color='r',fill=False))\n",
    "ax[1].set_title('Using DOG',fontsize=15)\n",
    "\n",
    "plt.tight_layout()\n",
    "plt.show()\n",
    " "
   ]
  }
 ],
 "metadata": {
  "kernelspec": {
   "display_name": "Python 3 (ipykernel)",
   "language": "python",
   "name": "python3"
  },
  "language_info": {
   "codemirror_mode": {
    "name": "ipython",
    "version": 3
   },
   "file_extension": ".py",
   "mimetype": "text/x-python",
   "name": "python",
   "nbconvert_exporter": "python",
   "pygments_lexer": "ipython3",
   "version": "3.9.12"
  }
 },
 "nbformat": 4,
 "nbformat_minor": 5
}
