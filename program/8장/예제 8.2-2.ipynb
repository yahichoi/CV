{
 "cells": [
  {
   "cell_type": "code",
   "execution_count": null,
   "id": "0675f84a",
   "metadata": {},
   "outputs": [],
   "source": [
    "# 예제 8.2-2 프로그램\n",
    "# using SimleBlobDetector of OpenCV\n",
    " \n",
    "import cv2\n",
    "import numpy as np\n",
    "from skimage import data\n",
    "import matplotlib.pyplot as plt\n",
    "\n",
    "image = data.hubble_deep_field()[0:256, 0:256]\n",
    "image_gray = cv2.cvtColor(image, cv2.COLOR_BGR2GRAY)\n",
    "\n",
    "# SimpleBlobDetector 생성 \n",
    "params = cv2.SimpleBlobDetector_Params()\n",
    "params.blobColor = 255 # 흰색 블롭 검출\n",
    "params.minThreshold = 10\n",
    "params.maxThreshold = 225\n",
    "params.thresholdStep = 10\n",
    "params.minDistBetweenBlobs = 10\n",
    "params.filterByArea = True\n",
    "params.minArea = 10\n",
    "params.filterByCircularity = False\n",
    "params.filterByConvexity = False\n",
    "params.filterByInertia = False\n",
    "detector = cv2.SimpleBlobDetector_create(params)\n",
    "\n",
    "# 키 포인트 검출 및 출력\n",
    "keypoints = detector.detect(image_gray)\n",
    "\n",
    "print('num of keypoints =', len(keypoints)), print()\n",
    "print('   x      y     size')\n",
    "for i in range(5) :\n",
    "    print('%6.2f'%keypoints[i].pt[0],\n",
    "    '%6.2f'%keypoints[i].pt[1],'%6.2f'%keypoints[i].size)\n",
    "\n",
    "# 입력 영상 출력\n",
    "fig, ax = plt.subplots(1,2,figsize=(8,4))\n",
    "ax[0].set_title('Original image', fontsize=15)\n",
    "ax[0].imshow(image, interpolation='nearest')\n",
    "\n",
    "# 키 포인트를 녹색으로 표시하여 출력 \n",
    "image = cv2.drawKeypoints(image, keypoints, None, (0,255,0),\n",
    "         flags=cv2.DRAW_MATCHES_FLAGS_DRAW_RICH_KEYPOINTS)\n",
    "ax[1].imshow(image)\n",
    "ax[1].set_title('Using SimpleBlobDetect',fontsize=15)\n",
    "\n",
    "plt.tight_layout()\n",
    "plt.show()\n",
    " "
   ]
  }
 ],
 "metadata": {
  "kernelspec": {
   "display_name": "Python 3 (ipykernel)",
   "language": "python",
   "name": "python3"
  },
  "language_info": {
   "codemirror_mode": {
    "name": "ipython",
    "version": 3
   },
   "file_extension": ".py",
   "mimetype": "text/x-python",
   "name": "python",
   "nbconvert_exporter": "python",
   "pygments_lexer": "ipython3",
   "version": "3.9.12"
  }
 },
 "nbformat": 4,
 "nbformat_minor": 5
}
