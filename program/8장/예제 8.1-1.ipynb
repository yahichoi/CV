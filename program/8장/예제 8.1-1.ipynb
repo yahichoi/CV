{
 "cells": [
  {
   "cell_type": "code",
   "execution_count": null,
   "id": "82d1985f",
   "metadata": {},
   "outputs": [],
   "source": [
    "# 예제 8.1-1 프로그램\n",
    "\n",
    "import cv2\n",
    "import numpy as np\n",
    "from matplotlib import pyplot as plt\n",
    "\n",
    "# gray  영상 읽어 크기 변경d\n",
    "src = cv2.imread('chess-board.png',0)\n",
    "src = cv2.resize(src, dsize=(256,256))\n",
    "                 \n",
    "# dx(x-방향 미분)와 dy(y-방향 미분) 계산\n",
    "dx = cv2.Sobel(src,cv2.CV_32F, 1, 0)\n",
    "dx2 = dx*dx\n",
    "dy = cv2.Sobel(src,cv2.CV_32F, 0, 1)\n",
    "dy2 = dy*dy\n",
    "dxy = dx*dy\n",
    "\n",
    "# 절대치로 변환 후, uin8로 표현\n",
    "dx2 = np.clip(abs(dx2), 0, 255).astype(np.uint8)\n",
    "dy2 = np.clip(abs(dy2), 0, 255).astype(np.uint8)                 \n",
    "dxy = np.clip(abs(dxy), 0, 255).astype(np.uint8) \n",
    "                 \n",
    "# 결과 출력\n",
    "titles = ['original', 'Ix2', 'Iy2', 'Ixy']\n",
    "images = [src, dx2, dy2, dxy]\n",
    "\n",
    "plt.figure(figsize = (8,8))\n",
    "for i in range(4) :\n",
    "    plt.subplot(2,2,i+1)\n",
    "    plt.imshow(images[i], 'gray') # 각 영상 출력\n",
    "    plt.title(titles[i]) # 제목 부착\n",
    "    plt.xticks([]) # x, y 축 수치 제거\n",
    "    plt.yticks([])\n",
    "plt.show\n",
    "                 "
   ]
  }
 ],
 "metadata": {
  "kernelspec": {
   "display_name": "Python 3 (ipykernel)",
   "language": "python",
   "name": "python3"
  },
  "language_info": {
   "codemirror_mode": {
    "name": "ipython",
    "version": 3
   },
   "file_extension": ".py",
   "mimetype": "text/x-python",
   "name": "python",
   "nbconvert_exporter": "python",
   "pygments_lexer": "ipython3",
   "version": "3.9.12"
  }
 },
 "nbformat": 4,
 "nbformat_minor": 5
}
