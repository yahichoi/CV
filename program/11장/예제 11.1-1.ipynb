{
 "cells": [
  {
   "cell_type": "code",
   "execution_count": null,
   "id": "1399a5fa",
   "metadata": {},
   "outputs": [],
   "source": [
    "# 예제 11.1-1 프로그램\n",
    "\n",
    "import numpy as np \n",
    "import cv2\n",
    "\n",
    "cap = cv2.VideoCapture(\"vtest.avi\")\n",
    "\n",
    "# 배경 제거 객체 생성\n",
    "fgbg = cv2.bgsegm.createBackgroundSubtractorMOG(history=300)\n",
    "\n",
    "while cap.isOpened():\n",
    "    ret, frame = cap.read()    \n",
    "    if not ret:\n",
    "        break\n",
    "    \n",
    "    # 배경 모델 갱신 및 이동 물체 영역 검출\n",
    "    fgmask = fgbg.apply(frame, learningRate=-1)\n",
    "\n",
    "    cv2.imshow('frame',frame)\n",
    "    cv2.imshow('bgsub',fgmask)\n",
    "    \n",
    "    if cv2.waitKey(1) & 0xff == 27:\n",
    "        break\n",
    "\n",
    "cap.release()\n",
    "cv2.destroyAllWindows()"
   ]
  }
 ],
 "metadata": {
  "kernelspec": {
   "display_name": "Python 3 (ipykernel)",
   "language": "python",
   "name": "python3"
  },
  "language_info": {
   "codemirror_mode": {
    "name": "ipython",
    "version": 3
   },
   "file_extension": ".py",
   "mimetype": "text/x-python",
   "name": "python",
   "nbconvert_exporter": "python",
   "pygments_lexer": "ipython3",
   "version": "3.9.12"
  }
 },
 "nbformat": 4,
 "nbformat_minor": 5
}
