{
 "cells": [
  {
   "cell_type": "code",
   "execution_count": null,
   "id": "12ab3398",
   "metadata": {},
   "outputs": [],
   "source": [
    "# (예제 6.4-1) 프로그램\n",
    "# 영상 Labeling 예제\n",
    "\n",
    "import cv2\n",
    "import numpy as np\n",
    "\n",
    "img = cv2.imread('connected.png')\n",
    "img1 = np.zeros_like(img)\n",
    "gray = cv2.cvtColor(img, cv2.COLOR_BGR2GRAY)\n",
    "\n",
    "# 임계값을 이용해 이진화 수행\n",
    "ret, thresh = cv2.threshold(gray,0,255, \n",
    "                cv2.THRESH_BINARY|cv2.THRESH_OTSU) \n",
    "\n",
    "# 연결된 영역 찾기\n",
    "ret,labels,stats,centroids=cv2.connectedComponentsWithStats(thresh)\n",
    "\n",
    "# 실수 출력 포맷 셋팅\n",
    "float_formatter = \"{:5.0f}\".format\n",
    "np.set_printoptions(formatter={'float_kind':float_formatter})\n",
    "\n",
    "# bounding box, area, centroids\n",
    "print('stats: (xmin,ymin,w,h,area)'), print(stats), print()\n",
    "print('centroids: (x,y) '), print(centroids)\n",
    "\n",
    "# 연결된 영역에 색 입히기\n",
    "for i in range(ret) :\n",
    "    color = [int(j) for j in np.random.randint(0,255,3)]\n",
    "    img1[labels == i] = color\n",
    "\n",
    "cv2.imshow('Original', img)\n",
    "cv2.imshow('labeled', img1)\n",
    "\n",
    "cv2.waitKey(0)\n",
    "cv2.destroyAllWindows()\n"
   ]
  }
 ],
 "metadata": {
  "kernelspec": {
   "display_name": "Python 3 (ipykernel)",
   "language": "python",
   "name": "python3"
  },
  "language_info": {
   "codemirror_mode": {
    "name": "ipython",
    "version": 3
   },
   "file_extension": ".py",
   "mimetype": "text/x-python",
   "name": "python",
   "nbconvert_exporter": "python",
   "pygments_lexer": "ipython3",
   "version": "3.9.12"
  }
 },
 "nbformat": 4,
 "nbformat_minor": 5
}
