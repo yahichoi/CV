{
 "cells": [
  {
   "cell_type": "code",
   "execution_count": null,
   "id": "49dbcfb5",
   "metadata": {},
   "outputs": [],
   "source": [
    "# (예제 6.2-1) 프로그램\n",
    "#image thresholding 이진화 예제 \n",
    "\n",
    "import cv2\n",
    "from matplotlib import pyplot as plt\n",
    "\n",
    "# 원본 영상을 grayscale로 load\n",
    "img = cv2.imread('gradient.jpg',0) \n",
    "\n",
    "# 원본 영상에 128을 임계 값으로, 할당 값을 255로 이진화\n",
    "# ret 에는 정상 작동여부가 boolean 형태로 들어감\n",
    "ret, thresh1 = cv2.threshold(img,128,255,cv2.THRESH_BINARY) \n",
    "ret, thresh2 = cv2.threshold(img,128,255,cv2.THRESH_BINARY_INV) \n",
    "\n",
    "titles =['Original','BINARY','BINARY_INV']  # 각 제목을 입력\n",
    "images = [img, thresh1, thresh2]  # 원본 영상과 이진화된 영상 \n",
    "\n",
    "plt.figure(figsize = (8,3))\n",
    "for i in range(3):  \n",
    "    plt.subplot(1,3,i+1)\n",
    "    plt.imshow(images[i],'gray') # 각 이미지 출력\n",
    "    plt.title(titles[i]) # 제목 부착\n",
    "    plt.xticks([])\n",
    "    plt.yticks([]) # x, y축의 수치 제거\n",
    "\n",
    "plt.show()\n"
   ]
  }
 ],
 "metadata": {
  "kernelspec": {
   "display_name": "Python 3 (ipykernel)",
   "language": "python",
   "name": "python3"
  },
  "language_info": {
   "codemirror_mode": {
    "name": "ipython",
    "version": 3
   },
   "file_extension": ".py",
   "mimetype": "text/x-python",
   "name": "python",
   "nbconvert_exporter": "python",
   "pygments_lexer": "ipython3",
   "version": "3.9.12"
  }
 },
 "nbformat": 4,
 "nbformat_minor": 5
}
