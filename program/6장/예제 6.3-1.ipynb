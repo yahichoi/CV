{
 "cells": [
  {
   "cell_type": "code",
   "execution_count": null,
   "id": "fd1dc1e6",
   "metadata": {},
   "outputs": [],
   "source": [
    "# (예제 6.3-1) 프로그램\n",
    "\n",
    "import cv2\n",
    "import numpy as np\n",
    "import matplotlib.pyplot as plt\n",
    "\n",
    "img = cv2.imread('morph_hole.jpg', 0)\n",
    "\n",
    "# binaray image로 변환 후 임계값을 이용해 이진화 수행\n",
    "ret, thresh = cv2.threshold(img, 0, 255, cv2.THRESH_BINARY|cv2.THRESH_OTSU) \n",
    "\n",
    "kernel = np.ones((3,3),np.uint8) # 3 x 3 크기의 커널\n",
    "\n",
    "dilate = cv2.dilate(thresh, kernel, iterations=5)\n",
    "erode = cv2.erode(thresh, kernel, iterations=5)\n",
    "opening = cv2.morphologyEx(thresh, cv2.MORPH_OPEN, kernel, iterations=7)\n",
    "closing = cv2.morphologyEx(thresh, cv2.MORPH_CLOSE, kernel, iterations=7)\n",
    "\n",
    "images1 = [img,dilate,erode]\n",
    "titles1 = ['original','dilate','erode']\n",
    "\n",
    "plt.figure(figsize=(9,3))\n",
    "for i in range(3) :\n",
    "    plt.subplot(1,3,i+1)\n",
    "    plt.imshow(images1[i],'gray')\n",
    "    plt.title(titles1[i])\n",
    "    plt.xticks([]), plt.yticks([])\n",
    "plt.show()\n",
    "\n",
    "images1 = [img,closing,opening]\n",
    "titles1 = ['original','close','open']\n",
    "plt.figure(figsize=(9,3))\n",
    "for i in range(3) :\n",
    "    plt.subplot(1,3,i+1)\n",
    "    plt.imshow(images1[i],'gray')\n",
    "    plt.title(titles1[i])\n",
    "    plt.xticks([]), plt.yticks([])\n",
    "plt.show()"
   ]
  }
 ],
 "metadata": {
  "kernelspec": {
   "display_name": "Python 3 (ipykernel)",
   "language": "python",
   "name": "python3"
  },
  "language_info": {
   "codemirror_mode": {
    "name": "ipython",
    "version": 3
   },
   "file_extension": ".py",
   "mimetype": "text/x-python",
   "name": "python",
   "nbconvert_exporter": "python",
   "pygments_lexer": "ipython3",
   "version": "3.9.12"
  }
 },
 "nbformat": 4,
 "nbformat_minor": 5
}
