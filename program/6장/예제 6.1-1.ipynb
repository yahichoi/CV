{
 "cells": [
  {
   "cell_type": "code",
   "execution_count": null,
   "id": "6c4374e2",
   "metadata": {},
   "outputs": [],
   "source": [
    "# 예제 6.1-1 프로그램\n",
    "#image histogram 예제\n",
    "\n",
    "import cv2\n",
    "from matplotlib import pyplot as plt\n",
    "\n",
    "# 이미지를 grayscale로 로드, 히스토그램 작성, 빈개수=128\n",
    "img1 = cv2.imread('scene.png',0) \n",
    "hist1 = cv2.calcHist([img1],[0],None,[128],[0,255]) \n",
    "\n",
    "# 히스트그램 평활화, 평활화된 영상 히스토그램 작성\n",
    "img2 = cv2.equalizeHist(img1) \n",
    "hist2 = cv2.calcHist([img2],[0],None,[128],[0,255]) \n",
    "\n",
    "plt.figure(figsize=(7,7))\n",
    "plt.subplot(2,2,1)  # 2행 2열 구조의 1번 subplot \n",
    "plt.imshow(img1, 'gray') # 이미지를 grayscale로 출력\n",
    "plt.title('input image') # 제목 지정\n",
    "\n",
    "plt.subplot(2,2,2)  # 2행 2열 구조의 2번 subplot \n",
    "plt.plot(hist1,color='Black')   # 히스토그램 출력\n",
    "plt.xlim([0,128])   # x축을 0부터 128까지로 제한\n",
    "\n",
    "plt.subplot(2,2,3)  # 2행 2열 구조의 3번 subplot \n",
    "plt.imshow(img2, 'gray') # 이미지 출력\n",
    "plt.title('H-equalized image') # 제목 지정\n",
    "\n",
    "plt.subplot(2,2,4)  # 2행 2열 구조의 4번 subplot \n",
    "plt.plot(hist2,color='Black')   # 히스토그램 출력\n",
    "plt.xlim([0,128])   # x축을 0부터 128까지로 제한\n",
    "\n",
    "plt.show()  # 생성된 subplot 창 띄우기\n",
    "\n"
   ]
  }
 ],
 "metadata": {
  "kernelspec": {
   "display_name": "Python 3 (ipykernel)",
   "language": "python",
   "name": "python3"
  },
  "language_info": {
   "codemirror_mode": {
    "name": "ipython",
    "version": 3
   },
   "file_extension": ".py",
   "mimetype": "text/x-python",
   "name": "python",
   "nbconvert_exporter": "python",
   "pygments_lexer": "ipython3",
   "version": "3.9.12"
  }
 },
 "nbformat": 4,
 "nbformat_minor": 5
}
