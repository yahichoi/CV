{
 "cells": [
  {
   "cell_type": "code",
   "execution_count": null,
   "id": "4f50d328",
   "metadata": {},
   "outputs": [],
   "source": [
    "#  (예제 6.2-3) 프로그램\n",
    "# adaptive thresholding \n",
    "\n",
    "import cv2\n",
    "import matplotlib.pyplot as plt\n",
    "\n",
    "block_size = 9\n",
    "C = 5\n",
    "img = cv2.imread('adaptive-img.png', 0)\n",
    "\n",
    "ret, th1 = cv2.threshold(img, 0, 255, cv2.THRESH_OTSU)\n",
    "th2 = cv2.adaptiveThreshold(img,255,cv2.ADAPTIVE_THRESH_MEAN_C, cv2.THRESH_BINARY,block_size,C)\n",
    "th3 = cv2.adaptiveThreshold(img,255,cv2.ADAPTIVE_THRESH_GAUSSIAN_C, cv2.THRESH_BINARY,block_size,C)\n",
    "\n",
    "titles =['Original','OTSU', 'ADAPT-MEAN','ADAPT-GAUSSIAN']  \n",
    "images = [img, th1, th2, th3]  # 원본 영상과 이진화된 영상 \n",
    "\n",
    "plt.figure(figsize = (8,8))\n",
    "for i in range(4):  \n",
    "    plt.subplot(2,2,i+1)\n",
    "    plt.imshow(images[i],'gray') # 각 이미지 출력\n",
    "    plt.title(titles[i]) # 제목 부착\n",
    "    plt.xticks([])\n",
    "    plt.yticks([]) # x, y축의 수치 제거\n",
    "plt.show()\n"
   ]
  }
 ],
 "metadata": {
  "kernelspec": {
   "display_name": "Python 3 (ipykernel)",
   "language": "python",
   "name": "python3"
  },
  "language_info": {
   "codemirror_mode": {
    "name": "ipython",
    "version": 3
   },
   "file_extension": ".py",
   "mimetype": "text/x-python",
   "name": "python",
   "nbconvert_exporter": "python",
   "pygments_lexer": "ipython3",
   "version": "3.9.12"
  }
 },
 "nbformat": 4,
 "nbformat_minor": 5
}
