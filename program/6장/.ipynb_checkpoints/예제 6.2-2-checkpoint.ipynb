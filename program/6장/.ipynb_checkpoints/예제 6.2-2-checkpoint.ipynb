{
 "cells": [
  {
   "cell_type": "code",
   "execution_count": null,
   "id": "6b747c69",
   "metadata": {},
   "outputs": [],
   "source": [
    "# 예제 6.2-2 프로그램\n",
    "\n",
    "import cv2\n",
    "from matplotlib import pyplot as plt\n",
    "\n",
    "# 원본 영상을 grayscale로 load\n",
    "img = cv2.imread('otsu-img.jpg',0) \n",
    "\n",
    "# OTSU 알고리즘 적용하여 임계값 계산\n",
    "th, dst = cv2.threshold(img,0,255, cv2.THRESH_BINARY|cv2.THRESH_OTSU)\n",
    "\n",
    "titles =['Original','OTSU-BINARY']  # 영상 제목\n",
    "images = [img, dst]  # 원본 영상과 이진화된 영상 \n",
    "\n",
    "plt.figure(figsize = (6,3))\n",
    "for i in range(2):  \n",
    "    plt.subplot(1,2,i+1)\n",
    "    plt.imshow(images[i],'gray') # 각 이미지 출력\n",
    "    plt.title(titles[i]) # 제목 부착\n",
    "    plt.xticks([])\n",
    "    plt.yticks([]) # x, y축의 수치 제거\n",
    "plt.show()\n"
   ]
  }
 ],
 "metadata": {
  "kernelspec": {
   "display_name": "Python 3 (ipykernel)",
   "language": "python",
   "name": "python3"
  },
  "language_info": {
   "codemirror_mode": {
    "name": "ipython",
    "version": 3
   },
   "file_extension": ".py",
   "mimetype": "text/x-python",
   "name": "python",
   "nbconvert_exporter": "python",
   "pygments_lexer": "ipython3",
   "version": "3.9.12"
  }
 },
 "nbformat": 4,
 "nbformat_minor": 5
}
