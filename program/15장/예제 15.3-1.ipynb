{
 "cells": [
  {
   "cell_type": "code",
   "execution_count": null,
   "id": "d3c8da14",
   "metadata": {},
   "outputs": [],
   "source": [
    "# 예제 15.3-1 프로그램\n",
    "\n",
    "# 1000개 클래스에 대한 ImageNet 데이터셋으로 사전학습된\n",
    "# Caffe 모델 BVLC GoogleNet을 사용하여 영상인식 작업 수행\n",
    "\n",
    "import numpy as np\n",
    "import cv2\n",
    "\n",
    "# 입력영상 읽기\n",
    "image = cv2.imread('mountain.jpg')\n",
    "\n",
    "cv2.imshow('input', image)\n",
    "key = cv2.waitKey(0)\n",
    "cv2.destroyAllWindows()\n",
    "\n",
    "# 클래스 정보 수록한 synset_words.txt 파일 읽어와 클래스 리스트 생성\n",
    "allRows = open('synset_words.txt').read().strip().split('\\n')\n",
    "\n",
    "# 클래스 id 제거\n",
    "classes = [r[r.find(' ')+1:] for r in allRows]\n",
    "\n",
    "# bvlc_googlenet 신경망 객체 생성\n",
    "net = cv2.dnn.readNet('bvlc_googlenet.prototxt', \n",
    "                      'bvlc_googlenet.caffemodel')\n",
    "\n",
    "# 입력 블롭 생성\n",
    "blob = cv2.dnn.blobFromImage(image, 1, (224,224))\n",
    "\n",
    "# 신경망 객체 입력 설정\n",
    "net.setInput(blob)\n",
    "\n",
    "# 순방향 추론하여 넘파이 배열 out 반환\n",
    "out = net.forward()\n",
    "\n",
    "# 확률값이 큰 톱5 클래스 색인  \n",
    "idx_asc = out.argsort()  \n",
    "idx_desc = np.fliplr(idx_asc)  \n",
    "idx_top5 = idx_desc[0,:5]\n",
    "\n",
    "# 최종 결과 출력\n",
    "for i, id in enumerate(idx_top5):\n",
    "    print(\"{}. {} ({}): Prob = {:.3}%\".format(i+1, classes[id], id,\n",
    "                                              out[0][id]*100))"
   ]
  }
 ],
 "metadata": {
  "kernelspec": {
   "display_name": "Python 3 (ipykernel)",
   "language": "python",
   "name": "python3"
  },
  "language_info": {
   "codemirror_mode": {
    "name": "ipython",
    "version": 3
   },
   "file_extension": ".py",
   "mimetype": "text/x-python",
   "name": "python",
   "nbconvert_exporter": "python",
   "pygments_lexer": "ipython3",
   "version": "3.9.12"
  }
 },
 "nbformat": 4,
 "nbformat_minor": 5
}
