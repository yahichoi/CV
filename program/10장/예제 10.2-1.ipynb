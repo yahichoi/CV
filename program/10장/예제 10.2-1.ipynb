{
 "cells": [
  {
   "cell_type": "code",
   "execution_count": null,
   "id": "cdbc6bcb",
   "metadata": {},
   "outputs": [],
   "source": [
    "#예제 10.2-1 프로그램\n",
    "# Stereo Vision 예제\n",
    "\n",
    "import cv2\n",
    "import numpy as np\n",
    "from matplotlib import pyplot as plt\n",
    "\n",
    "imageL = cv2.imread('./images/Left.png', -1)  # 왼쪽 시점 이미지 로드\n",
    "imageR = cv2.imread('./images/Right.png', -1) # 오른쪽 시점 이미지 로드\n",
    "\n",
    "imgL = cv2.cvtColor(imageL, cv2.COLOR_BGR2GRAY)\n",
    "imgR = cv2.cvtColor(imageR, cv2.COLOR_BGR2GRAY)\n",
    "\n",
    "#  스테레오 블록 객체 생성\n",
    "paras = dict(minDisparity=0, preFilterCap=120, P1=100, P2=1000, \n",
    "             uniquenessRatio=5,speckleRange=1, speckleWindowSize=50, mode=1)\n",
    "stereo = cv2.StereoSGBM_create(numDisparities=16, blockSize=11,**paras)\n",
    "\n",
    "# Disparity Map을 계산\n",
    "disparity = stereo.compute(imgL, imgR).astype(np.float32)/16\n",
    "\n",
    "print('\\n disp dtype', disparity.dtype)\n",
    "max_num = np.max(disparity)\n",
    "print('\\n max of disp =', np.max(disparity))\n",
    "print('\\n min of disp =', np.min(disparity))\n",
    "\n",
    "print('sum of -1 disp =', np.count_nonzero(disparity == -1))\n",
    "\n",
    "# disparity plot\n",
    "dList = disparity.flatten().tolist()\n",
    "plt.hist(dList, bins=15)\n",
    "plt.show()\n",
    "\n",
    "disparity = np.clip(disparity, 0, max_num)\n",
    "#disparity = np.where(disparity > 11, 0, disparity)\n",
    "min_num = np.min(disparity)\n",
    "print('\\n new_min of disp =', min_num)\n",
    "\n",
    "\n",
    "cv2.imshow('Left image', imageL)  # 원본 왼쪽 영상 출력\n",
    "cv2.imshow('Reft image', imageR)  # 원본 오른쪽 영상 출력\n",
    "\n",
    "# Normalize and apply a color map\n",
    "disparity = cv2.normalize(src=disparity, dst=None, alpha=0, beta=255, \n",
    "                          norm_type=cv2.NORM_MINMAX, dtype=cv2.CV_8UC1)\n",
    "disparity = cv2.applyColorMap(disparity, cv2.COLORMAP_JET)\n",
    "cv2.imshow(\"Disparity ColorMap\", disparity)\n",
    "\n",
    "cv2.waitKey(0)\n",
    "cv2.destroyAllWindows()\n"
   ]
  }
 ],
 "metadata": {
  "kernelspec": {
   "display_name": "Python 3 (ipykernel)",
   "language": "python",
   "name": "python3"
  },
  "language_info": {
   "codemirror_mode": {
    "name": "ipython",
    "version": 3
   },
   "file_extension": ".py",
   "mimetype": "text/x-python",
   "name": "python",
   "nbconvert_exporter": "python",
   "pygments_lexer": "ipython3",
   "version": "3.9.12"
  }
 },
 "nbformat": 4,
 "nbformat_minor": 5
}
