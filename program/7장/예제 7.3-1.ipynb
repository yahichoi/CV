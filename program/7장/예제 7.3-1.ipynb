{
 "cells": [
  {
   "cell_type": "code",
   "execution_count": null,
   "id": "0c56c778",
   "metadata": {},
   "outputs": [],
   "source": [
    "#  (예제 7.3-1) 프로그램\n",
    "# Canny 에지 검출 예제\n",
    "\n",
    "import cv2\n",
    "import numpy as np\n",
    "\n",
    "img = cv2.imread('chessboard.jpg', 0)  \n",
    "img = cv2.resize(img, dsize=(256,256))\n",
    "cv2.imshow('input-image', img)   \n",
    "\n",
    "# manual setting of thresholds\n",
    "edges1 = cv2.Canny(img,30,200,3, L2gradient = True) \n",
    "cv2.imshow('Edges-30-200', edges1)  \n",
    "edges2 = cv2.Canny(img,180,200,3) \n",
    "cv2.imshow('Edges-180-200', edges2)  \n",
    "\n",
    "# median-based approach\n",
    "v = np.median(img)\n",
    "sigma = 0.5\n",
    "lower = int(max(0, (1.0 - sigma)*v))\n",
    "upper = int(max(0, (1.0 + sigma)*v))\n",
    "edge3 = cv2.Canny(img, lower, upper)\n",
    "cv2.imshow('median-based edge', edge3)  \n",
    "\n",
    "# threshold-based approach\n",
    "th, dst = cv2.threshold(img, 0, 255, \n",
    "              cv2.THRESH_BINARY|cv2.THRESH_OTSU)\n",
    "lower = th * 0.5\n",
    "upper = th * 1.5\n",
    "edge4 = cv2.Canny(img, lower, upper)\n",
    "cv2.imshow('OTSU-based edge', edge4)\n",
    "\n",
    "cv2.waitKey(0)\n",
    "cv2.destroyAllWindows()\n"
   ]
  }
 ],
 "metadata": {
  "kernelspec": {
   "display_name": "Python 3 (ipykernel)",
   "language": "python",
   "name": "python3"
  },
  "language_info": {
   "codemirror_mode": {
    "name": "ipython",
    "version": 3
   },
   "file_extension": ".py",
   "mimetype": "text/x-python",
   "name": "python",
   "nbconvert_exporter": "python",
   "pygments_lexer": "ipython3",
   "version": "3.9.12"
  }
 },
 "nbformat": 4,
 "nbformat_minor": 5
}
