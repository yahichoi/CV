{
 "cells": [
  {
   "cell_type": "code",
   "execution_count": null,
   "id": "0320bd68",
   "metadata": {},
   "outputs": [],
   "source": [
    "# (예제 7.4-1) 프로그램 \n",
    "# 허프 변환 예제 : probalistic hough line\n",
    "\n",
    "import cv2\n",
    "import numpy as np\n",
    "from matplotlib import pyplot as plt\n",
    "\n",
    "img = cv2.imread('chessboard.jpg') \n",
    "img = cv2.resize(img, dsize=(256,256))\n",
    "img_original = img.copy()  \n",
    "gray = cv2.cvtColor(img, cv2.COLOR_BGR2GRAY)\n",
    "\n",
    "# get median of image\n",
    "v = np.median(gray)\n",
    "\n",
    "sigma = 0.33\n",
    "lower = int(max(0,(1.0 - sigma)*v))\n",
    "upper = int(min(255, (1.0 + sigma)*v))\n",
    "\n",
    "edges = cv2.Canny(gray, lower, upper)\n",
    "\n",
    "lines = cv2.HoughLinesP(edges,1.0,np.pi/180, 30, \n",
    "                        minLineLength=10, maxLineGap=10) \n",
    "\n",
    "print('shape of lines =', lines.shape)\n",
    "print('lines[0][0][:]', lines[0][0][:])\n",
    "\n",
    "# 허프 변환에서 검출된 선을 전부 투영하기 위한 반복문\n",
    "for line in lines:  \n",
    "    x1,y1,x2,y2 = line[0] \n",
    "    cv2.line(img,(x1,y1),(x2,y2),(0,0,255),2)\n",
    "\n",
    "cv2.imshow('input-image', img_original)\n",
    "cv2.imshow('edge image', edges)\n",
    "cv2.imshow('line image', img)\n",
    "\n",
    "cv2.waitKey(0)\n",
    "cv2.destroyAllWindows()\n"
   ]
  }
 ],
 "metadata": {
  "kernelspec": {
   "display_name": "Python 3 (ipykernel)",
   "language": "python",
   "name": "python3"
  },
  "language_info": {
   "codemirror_mode": {
    "name": "ipython",
    "version": 3
   },
   "file_extension": ".py",
   "mimetype": "text/x-python",
   "name": "python",
   "nbconvert_exporter": "python",
   "pygments_lexer": "ipython3",
   "version": "3.9.12"
  }
 },
 "nbformat": 4,
 "nbformat_minor": 5
}
