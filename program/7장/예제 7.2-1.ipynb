{
 "cells": [
  {
   "cell_type": "code",
   "execution_count": null,
   "id": "679800a4",
   "metadata": {},
   "outputs": [],
   "source": [
    "# (예제 7.2-1) 프로그램\n",
    "\n",
    "import cv2\n",
    "import numpy as np\n",
    "from matplotlib import pyplot as plt\n",
    "\n",
    "# gray로 영상 읽어 크기 변경\n",
    "src = cv2.imread('rectangle.png',0)\n",
    "src = cv2.resize(src, dsize=(256,256))\n",
    "\n",
    "# dx(x-방향 미분)와 dy(y-방향 미분) 계산\n",
    "dx = cv2.Sobel(src, cv2.CV_32F, 1, 0) \n",
    "dy = cv2.Sobel(src, cv2.CV_32F, 0, 1)\n",
    "\n",
    "# 에지 방향과 에지 크기 계산\n",
    "adx = dx + 0.00001\n",
    "angle = cv2.phase(adx,dy,angleInDegrees=True)\n",
    "mag = cv2.magnitude(dx, dy)\n",
    "\n",
    "# 에지 방향에 대한 히스토그램 작성\n",
    "mask = np.zeros(mag.shape[:2], np.uint8)\n",
    "mask[mag > 100] = 255\n",
    "hist = cv2.calcHist([angle], [0], mask, [360], [0,360])\n",
    "\n",
    "# 에지크기를 0과 255 사이의 uint8 로 표현\n",
    "mag = np.clip(mag, 0, 255).astype(np.uint8) \n",
    "\n",
    "# 절대치로 변환 후, uint8 로 표현\n",
    "dx = np.clip(abs(dx),0,255).astype(np.uint8) \n",
    "dy = np.clip(abs(dy),0,255).astype(np.uint8)\n",
    "\n",
    "cv2.imshow('src', src), cv2.imshow('dx', dx)\n",
    "cv2.imshow('dy', dy), cv2.imshow('magnitude', mag)\n",
    "plt.plot(hist,color='Black')   \n",
    "plt.ylim([0,700])  \n",
    "plt.title('edge direction')\n",
    "plt.show()\n",
    "\n",
    "cv2.waitKey()\n",
    "cv2.destroyAllWindows()\n"
   ]
  }
 ],
 "metadata": {
  "kernelspec": {
   "display_name": "Python 3 (ipykernel)",
   "language": "python",
   "name": "python3"
  },
  "language_info": {
   "codemirror_mode": {
    "name": "ipython",
    "version": 3
   },
   "file_extension": ".py",
   "mimetype": "text/x-python",
   "name": "python",
   "nbconvert_exporter": "python",
   "pygments_lexer": "ipython3",
   "version": "3.9.12"
  }
 },
 "nbformat": 4,
 "nbformat_minor": 5
}
