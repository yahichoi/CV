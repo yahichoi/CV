{
 "cells": [
  {
   "cell_type": "code",
   "execution_count": null,
   "id": "38bbe9fc",
   "metadata": {},
   "outputs": [],
   "source": [
    "# 예제 12.2-1 프로그램\n",
    "\n",
    "import pandas as pd\n",
    "import numpy as np\n",
    "import matplotlib.pyplot as plt\n",
    "\n",
    "# 텐서플로우와 케라스를 사용할 수 있도록 준비\n",
    "import tensorflow as tf\n",
    "from tensorflow import keras\n",
    "\n",
    "# build model\n",
    "model = keras.models.Sequential( [\n",
    "    keras.Input(shape=(1,)),\n",
    "    keras.layers.Dense(6, activation= 'sigmoid'),\n",
    "    keras.layers.Dense(4, activation= 'sigmoid'),\n",
    "    keras.layers.Dense(1, activation= 'sigmoid'),\n",
    "])\n",
    "\n",
    "# set learning process\n",
    "opt = keras.optimizers.SGD(learning_rate = 2.0)\n",
    "model.compile(optimizer=opt, loss='mse')\n",
    "\n",
    "# read in data set\n",
    "\n",
    "df = pd.read_csv('nonlinear.csv')\n",
    "\n",
    "print('\\n first 5 data of nonlinear dataframe'), print(df.head(5))\n",
    "print('\\n size of df.index =', df.index.size)\n",
    "\n",
    "X = df['X'].to_numpy()\n",
    "y_label = df['y_label'].to_numpy()\n",
    "\n",
    "#X = np.linspace(0, 1, 1000)\n",
    "#y_label = (np.sin(X*2*np.pi) + 1)/2\n",
    "\n",
    "plt.scatter(X,y_label)\n",
    "plt.show()\n",
    "\n",
    "# fit model with training data set\n",
    "model.fit(X, y_label, batch_size =32, epochs=300)\n",
    "\n",
    "# 입력은 2차원 벡터로 변형\n",
    "new_input = np.linspace(0, 1, 100).reshape(-1,1)  \n",
    "\n",
    "# perform prediction\n",
    "new_output = model.predict(new_input, batch_size = 32, verbose=1)\n",
    "\n",
    "plt.scatter(X, y_label)\n",
    "plt.scatter(new_input, new_output, color='r')\n",
    "plt.show()\n"
   ]
  },
  {
   "cell_type": "code",
   "execution_count": null,
   "id": "84d7f825",
   "metadata": {},
   "outputs": [],
   "source": []
  }
 ],
 "metadata": {
  "kernelspec": {
   "display_name": "Python 3 (ipykernel)",
   "language": "python",
   "name": "python3"
  },
  "language_info": {
   "codemirror_mode": {
    "name": "ipython",
    "version": 3
   },
   "file_extension": ".py",
   "mimetype": "text/x-python",
   "name": "python",
   "nbconvert_exporter": "python",
   "pygments_lexer": "ipython3",
   "version": "3.9.12"
  }
 },
 "nbformat": 4,
 "nbformat_minor": 5
}
