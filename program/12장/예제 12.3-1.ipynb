{
 "cells": [
  {
   "cell_type": "code",
   "execution_count": null,
   "id": "fe463022",
   "metadata": {},
   "outputs": [],
   "source": [
    "# 예제 12.3-1 프로그램\n",
    "\n",
    "import tensorflow as tf\n",
    "from tensorflow import keras\n",
    "import numpy as np\n",
    "import matplotlib.pyplot as plt\n",
    "import pandas as pd\n",
    "\n",
    "mnist = tf.keras.datasets.mnist\n",
    "\n",
    "(x_train, y_train), (x_test, y_test) = mnist.load_data()\n",
    "\n",
    "print('\\n num of x_train =', len(x_train))\n",
    "print('\\n num of x_test =', len(x_test))\n",
    "\n",
    "plt.imshow(x_train[0],'gray')\n",
    "plt.show()\n",
    "\n",
    "x_train, x_test = x_train / 255, x_test / 255  # 입력값 정규화\n",
    "\n",
    "# 드롭아웃 계층을 가진 신경망 모델\n",
    "model = keras.models.Sequential( [\n",
    "    keras.layers.Flatten(input_shape = (28, 28)),\n",
    "    keras.layers.Dropout(0.2),\n",
    "    keras.layers.Dense(60, activation = 'relu'),\n",
    "    keras.layers.Dropout(0.2),\n",
    "    keras.layers.Dense(60, activation = 'relu'),\n",
    "    keras.layers.Dropout(0.2),\n",
    "    keras.layers.Dense(60, activation = 'relu'),\n",
    "    keras.layers.Dropout(0.2),\n",
    "    keras.layers.Dense(10, activation = 'softmax'),\n",
    "])\n",
    "\n",
    "model.summary()\n",
    "\n",
    "model.compile(optimizer='adam', loss='sparse_categorical_crossentropy',\n",
    "              metrics=['accuracy'])\n",
    "\n",
    "history = model.fit(x_train, y_train, epochs = 10, \n",
    "                    validation_data = (x_test, y_test))\n",
    "\n",
    "\n",
    "pd.DataFrame(history.history).plot.line(figsize = (5, 3))\n",
    "plt.xlim(0,10), plt.ylim(0,1)\n",
    "plt.title('with drop-out')\n",
    "plt.show()\n"
   ]
  }
 ],
 "metadata": {
  "kernelspec": {
   "display_name": "Python 3 (ipykernel)",
   "language": "python",
   "name": "python3"
  },
  "language_info": {
   "codemirror_mode": {
    "name": "ipython",
    "version": 3
   },
   "file_extension": ".py",
   "mimetype": "text/x-python",
   "name": "python",
   "nbconvert_exporter": "python",
   "pygments_lexer": "ipython3",
   "version": "3.9.12"
  }
 },
 "nbformat": 4,
 "nbformat_minor": 5
}
