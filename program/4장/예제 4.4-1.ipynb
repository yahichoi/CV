{
 "cells": [
  {
   "cell_type": "code",
   "execution_count": null,
   "id": "8be4d736",
   "metadata": {},
   "outputs": [],
   "source": [
    "#  (예제 4.4-1) 프로그램\n",
    "\n",
    "import cv2\n",
    "import matplotlib.pyplot as plt\n",
    "\n",
    "img1 = cv2.imread('lena.jpg')\n",
    "img2 = cv2.imread('chessboard.jpg')\n",
    "img3 = cv2.imread('sample.jpg')\n",
    "\n",
    "plt.figure(figsize =(5,5))\n",
    "plt.subplot(2,2,1)\n",
    "plt.imshow(img1)\n",
    "plt.xticks([]), plt.yticks([])\n",
    "\n",
    "plt.subplot(2,2,2)\n",
    "plt.imshow(img2)\n",
    "plt.xticks([]), plt.yticks([])\n",
    "\n",
    "plt.subplot(2,2,3)\n",
    "plt.imshow(img3)\n",
    "plt.xticks([]), plt.yticks([])\n",
    "\n",
    "plt.show()\n"
   ]
  }
 ],
 "metadata": {
  "kernelspec": {
   "display_name": "Python 3 (ipykernel)",
   "language": "python",
   "name": "python3"
  },
  "language_info": {
   "codemirror_mode": {
    "name": "ipython",
    "version": 3
   },
   "file_extension": ".py",
   "mimetype": "text/x-python",
   "name": "python",
   "nbconvert_exporter": "python",
   "pygments_lexer": "ipython3",
   "version": "3.9.12"
  }
 },
 "nbformat": 4,
 "nbformat_minor": 5
}
