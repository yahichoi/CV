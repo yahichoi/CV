{
 "cells": [
  {
   "cell_type": "code",
   "execution_count": null,
   "id": "d847aa79",
   "metadata": {},
   "outputs": [],
   "source": [
    "# (예제 4.3-6) 프로그램\n",
    "\n",
    "import pandas as pd\n",
    "\n",
    "df = pd.read_csv('example.csv')\n",
    "\n",
    "a = df[['NAME','HEIGHT']]\n",
    "b = df.head(2)\n",
    "c = df[2:4]\n",
    "\n",
    "d = df.loc[df['AGE'] > 30,['ID','NAME']]\n",
    "\n",
    "print(df,'\\n')\n",
    "print(a,'\\n')\n",
    "print(b,'\\n')\n",
    "print(c,'\\n')\n",
    "print(d,'\\n')\n"
   ]
  }
 ],
 "metadata": {
  "kernelspec": {
   "display_name": "Python 3 (ipykernel)",
   "language": "python",
   "name": "python3"
  },
  "language_info": {
   "codemirror_mode": {
    "name": "ipython",
    "version": 3
   },
   "file_extension": ".py",
   "mimetype": "text/x-python",
   "name": "python",
   "nbconvert_exporter": "python",
   "pygments_lexer": "ipython3",
   "version": "3.9.12"
  }
 },
 "nbformat": 4,
 "nbformat_minor": 5
}
