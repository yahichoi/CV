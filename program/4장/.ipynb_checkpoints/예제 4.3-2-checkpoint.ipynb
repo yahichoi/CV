{
 "cells": [
  {
   "cell_type": "code",
   "execution_count": null,
   "id": "6a0509c2",
   "metadata": {},
   "outputs": [],
   "source": [
    "# 예제 4.3-2 프로그램\n",
    "\n",
    "import pandas as pd\n",
    "\n",
    "a = pd.Series([100, 80, 60, 50])\n",
    "\n",
    "print(a, '\\n')"
   ]
  }
 ],
 "metadata": {
  "kernelspec": {
   "display_name": "Python 3 (ipykernel)",
   "language": "python",
   "name": "python3"
  },
  "language_info": {
   "codemirror_mode": {
    "name": "ipython",
    "version": 3
   },
   "file_extension": ".py",
   "mimetype": "text/x-python",
   "name": "python",
   "nbconvert_exporter": "python",
   "pygments_lexer": "ipython3",
   "version": "3.9.12"
  }
 },
 "nbformat": 4,
 "nbformat_minor": 5
}
