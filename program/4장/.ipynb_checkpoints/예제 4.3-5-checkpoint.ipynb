{
 "cells": [
  {
   "cell_type": "code",
   "execution_count": null,
   "id": "06ded519",
   "metadata": {},
   "outputs": [],
   "source": [
    "#  예제 4.3-5 프로그램\n",
    "\n",
    "import pandas as pd\n",
    "a = {'name':['kim','lee','park','choi'],\n",
    "     'grade':['A','B','C','A']}\n",
    "index = ['001','002','003','004']\n",
    "df = pd.DataFrame(a, index)\n",
    "\n",
    "print('특정 열만 선택:')\n",
    "print(df['grade'],'\\n')\n",
    "\n",
    "print('특정 열과 특정 행 선택:')\n",
    "print(df['grade']['001'])\n",
    "print(df.values[0][1],'\\n')\n",
    "\n",
    "print('특정 열에서 조건을 만족하는 데이터 선택:')\n",
    "print(df.loc[df['grade']=='A',['name']])"
   ]
  }
 ],
 "metadata": {
  "kernelspec": {
   "display_name": "Python 3 (ipykernel)",
   "language": "python",
   "name": "python3"
  },
  "language_info": {
   "codemirror_mode": {
    "name": "ipython",
    "version": 3
   },
   "file_extension": ".py",
   "mimetype": "text/x-python",
   "name": "python",
   "nbconvert_exporter": "python",
   "pygments_lexer": "ipython3",
   "version": "3.9.12"
  }
 },
 "nbformat": 4,
 "nbformat_minor": 5
}
