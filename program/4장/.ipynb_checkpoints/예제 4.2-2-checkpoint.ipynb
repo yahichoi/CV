{
 "cells": [
  {
   "cell_type": "code",
   "execution_count": null,
   "id": "74c79638",
   "metadata": {},
   "outputs": [],
   "source": [
    "# 예제 4.2-2 프로그램\n",
    "\n",
    "import numpy as np\n",
    "\n",
    "a = np.array([5,6,7,8])\n",
    "b = np.array([[1,2,3,4],[5,6,7,8]])\n",
    "print(a,a.dtype, a.shape)\n",
    "print(b, b.shape)\n",
    "\n",
    "c = np.arange(4,8)\n",
    "d = np.random.rand(3)\n",
    "e = np.ones([3,3])\n",
    "print(c)\n",
    "print(d)\n",
    "print(e)"
   ]
  }
 ],
 "metadata": {
  "kernelspec": {
   "display_name": "Python 3 (ipykernel)",
   "language": "python",
   "name": "python3"
  },
  "language_info": {
   "codemirror_mode": {
    "name": "ipython",
    "version": 3
   },
   "file_extension": ".py",
   "mimetype": "text/x-python",
   "name": "python",
   "nbconvert_exporter": "python",
   "pygments_lexer": "ipython3",
   "version": "3.9.12"
  }
 },
 "nbformat": 4,
 "nbformat_minor": 5
}
