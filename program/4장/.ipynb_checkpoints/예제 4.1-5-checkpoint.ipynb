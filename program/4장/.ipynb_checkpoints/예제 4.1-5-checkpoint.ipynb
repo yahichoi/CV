{
 "cells": [
  {
   "cell_type": "code",
   "execution_count": null,
   "id": "dc8d4fcb",
   "metadata": {},
   "outputs": [],
   "source": [
    "# 예제 4.1-5 프로그램\n",
    "\n",
    "import cv2\n",
    "\n",
    "cap = cv2.VideoCapture(0)\n",
    "\n",
    "fourcc = cv2.VideoWriter_fourcc('D','I','V','X')\n",
    "out = cv2.VideoWriter('output.avi',fourcc,25.0,(640,480))\n",
    "\n",
    "while(cap.isOpened()) :\n",
    "    ret, frame = cap.read()\n",
    "    if ret :\n",
    "        # 이미지 반전, 0:상하, 1:좌우\n",
    "        frame = cv2.flip(frame, 0)\n",
    "        out.write(frame)\n",
    "        cv2.imshow('flipped camera', frame)\n",
    "        if cv2.waitKey(1)&0xff == ord('q') :\n",
    "            break\n",
    "    else :\n",
    "        break\n",
    "\n",
    "cap.release()\n",
    "out.release()\n",
    "cv2.destroyAllWindows()\n",
    " "
   ]
  }
 ],
 "metadata": {
  "kernelspec": {
   "display_name": "Python 3 (ipykernel)",
   "language": "python",
   "name": "python3"
  },
  "language_info": {
   "codemirror_mode": {
    "name": "ipython",
    "version": 3
   },
   "file_extension": ".py",
   "mimetype": "text/x-python",
   "name": "python",
   "nbconvert_exporter": "python",
   "pygments_lexer": "ipython3",
   "version": "3.9.12"
  }
 },
 "nbformat": 4,
 "nbformat_minor": 5
}
