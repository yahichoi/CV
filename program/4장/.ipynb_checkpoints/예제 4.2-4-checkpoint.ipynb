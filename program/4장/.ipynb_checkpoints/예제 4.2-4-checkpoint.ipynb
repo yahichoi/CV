{
 "cells": [
  {
   "cell_type": "code",
   "execution_count": null,
   "id": "dedf4133",
   "metadata": {},
   "outputs": [],
   "source": [
    "# 예제 4.2-4 프로그램\n",
    "\n",
    "import numpy as np\n",
    "\n",
    "a = np.array([1,2,3,4,5])\n",
    "b = a[2:]\n",
    "print(b)\n",
    "\n",
    "c = np.array([[1,2],[3,4],[5,6]])\n",
    "d = c[2][0]\n",
    "print(d)"
   ]
  }
 ],
 "metadata": {
  "kernelspec": {
   "display_name": "Python 3 (ipykernel)",
   "language": "python",
   "name": "python3"
  },
  "language_info": {
   "codemirror_mode": {
    "name": "ipython",
    "version": 3
   },
   "file_extension": ".py",
   "mimetype": "text/x-python",
   "name": "python",
   "nbconvert_exporter": "python",
   "pygments_lexer": "ipython3",
   "version": "3.9.12"
  }
 },
 "nbformat": 4,
 "nbformat_minor": 5
}
