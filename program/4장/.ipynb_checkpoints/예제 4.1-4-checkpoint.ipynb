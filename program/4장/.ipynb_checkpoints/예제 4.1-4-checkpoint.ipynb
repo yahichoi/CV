{
 "cells": [
  {
   "cell_type": "code",
   "execution_count": null,
   "id": "41ebb680",
   "metadata": {},
   "outputs": [],
   "source": [
    "# 예제 4.1-4 프로그램\n",
    "\n",
    "import cv2\n",
    "\n",
    "cap = cv2.VideoCapture(0)\n",
    "\n",
    "if cap.isOpened() :\n",
    "    while True :\n",
    "        ret, frame = cap.read()\n",
    "        if ret :\n",
    "            cv2.imshow('camera', frame)\n",
    "            if cv2.waitKey(1) != -1 :\n",
    "                cv2.imwrite('camera-shot.jpg', frame)\n",
    "                break\n",
    "        else :\n",
    "            print('no frame')\n",
    "            break\n",
    "    \n",
    "else :\n",
    "    print('no camera')\n",
    "    \n",
    "cap.release()\n",
    "cv2.destroyAllWindows()\n",
    " "
   ]
  }
 ],
 "metadata": {
  "kernelspec": {
   "display_name": "Python 3 (ipykernel)",
   "language": "python",
   "name": "python3"
  },
  "language_info": {
   "codemirror_mode": {
    "name": "ipython",
    "version": 3
   },
   "file_extension": ".py",
   "mimetype": "text/x-python",
   "name": "python",
   "nbconvert_exporter": "python",
   "pygments_lexer": "ipython3",
   "version": "3.9.12"
  }
 },
 "nbformat": 4,
 "nbformat_minor": 5
}
