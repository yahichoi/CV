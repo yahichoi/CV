{
 "cells": [
  {
   "cell_type": "code",
   "execution_count": null,
   "id": "e8bb020c",
   "metadata": {},
   "outputs": [],
   "source": [
    "#  예제 4.3-3 프로그램\n",
    "\n",
    "import pandas as pd\n",
    "\n",
    "a = {'name':['kim','lee','park','choi'], 'grade':['A','B','C','A']}\n",
    "index = ['001','002','003','004']\n",
    "\n",
    "df = pd.DataFrame(a, index)\n",
    "df1 = pd.DataFrame(a)\n",
    "\n",
    "print(df,'\\n')\n",
    "print(df1,'\\n')\n"
   ]
  }
 ],
 "metadata": {
  "kernelspec": {
   "display_name": "Python 3 (ipykernel)",
   "language": "python",
   "name": "python3"
  },
  "language_info": {
   "codemirror_mode": {
    "name": "ipython",
    "version": 3
   },
   "file_extension": ".py",
   "mimetype": "text/x-python",
   "name": "python",
   "nbconvert_exporter": "python",
   "pygments_lexer": "ipython3",
   "version": "3.9.12"
  }
 },
 "nbformat": 4,
 "nbformat_minor": 5
}
