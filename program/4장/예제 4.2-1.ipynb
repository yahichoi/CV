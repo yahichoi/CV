{
 "cells": [
  {
   "cell_type": "code",
   "execution_count": null,
   "id": "886f9624",
   "metadata": {},
   "outputs": [],
   "source": [
    "#  예제 4.2-1 프로그램\n",
    "\n",
    "import cv2\n",
    "\n",
    "image = cv2.imread('lena.jpg', 1)\n",
    "\n",
    "print(type(image))\n",
    "print(image.dtype)\n",
    "print(image.shape)\n",
    " "
   ]
  }
 ],
 "metadata": {
  "kernelspec": {
   "display_name": "Python 3 (ipykernel)",
   "language": "python",
   "name": "python3"
  },
  "language_info": {
   "codemirror_mode": {
    "name": "ipython",
    "version": 3
   },
   "file_extension": ".py",
   "mimetype": "text/x-python",
   "name": "python",
   "nbconvert_exporter": "python",
   "pygments_lexer": "ipython3",
   "version": "3.9.12"
  }
 },
 "nbformat": 4,
 "nbformat_minor": 5
}
