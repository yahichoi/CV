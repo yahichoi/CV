{
 "cells": [
  {
   "cell_type": "code",
   "execution_count": null,
   "id": "0835fb7b",
   "metadata": {},
   "outputs": [],
   "source": [
    "# 예제 4.2-3 프로그램\n",
    "\n",
    "import numpy as np\n",
    "a = np.array([100, 200, 300])\n",
    "b = np.array([10,20,30])\n",
    "c = a + 100\n",
    "d = a + b\n",
    "print(c)\n",
    "print(d)"
   ]
  }
 ],
 "metadata": {
  "kernelspec": {
   "display_name": "Python 3 (ipykernel)",
   "language": "python",
   "name": "python3"
  },
  "language_info": {
   "codemirror_mode": {
    "name": "ipython",
    "version": 3
   },
   "file_extension": ".py",
   "mimetype": "text/x-python",
   "name": "python",
   "nbconvert_exporter": "python",
   "pygments_lexer": "ipython3",
   "version": "3.9.12"
  }
 },
 "nbformat": 4,
 "nbformat_minor": 5
}
