{
 "cells": [
  {
   "cell_type": "code",
   "execution_count": null,
   "id": "4263182f",
   "metadata": {},
   "outputs": [],
   "source": [
    "#  (예제 4.4-3) 프로그램\n",
    "\n",
    "import matplotlib.pyplot as plt\n",
    "import numpy as np\n",
    "\n",
    "y1 = np.array([2, 3.5, 1, 6, 3, 9])\n",
    "\n",
    "x = ['Mon','Tue','Wed','Thur','Fri','Sat','Sun']\n",
    "y2 = [10, 12, 11, 13.5, 17, 15.5, 16.7]\n",
    "y3 = [21, 19.5, 23, 24, 15, 17.5, 24]\n",
    "\n",
    "plt.figure(figsize=(9,3))\n",
    "\n",
    "plt.subplot(1,3,1)\n",
    "plt.plot(y1)\n",
    "\n",
    "plt.subplot(1,3,2)\n",
    "plt.plot(x,y2,x,y3)\n",
    "plt.xlabel('day')\n",
    "plt.ylabel('temperature')\n",
    "\n",
    "plt.subplot(1,3,3)\n",
    "plt.bar(x,y3)\n",
    "\n",
    "plt.show\n"
   ]
  }
 ],
 "metadata": {
  "kernelspec": {
   "display_name": "Python 3 (ipykernel)",
   "language": "python",
   "name": "python3"
  },
  "language_info": {
   "codemirror_mode": {
    "name": "ipython",
    "version": 3
   },
   "file_extension": ".py",
   "mimetype": "text/x-python",
   "name": "python",
   "nbconvert_exporter": "python",
   "pygments_lexer": "ipython3",
   "version": "3.9.12"
  }
 },
 "nbformat": 4,
 "nbformat_minor": 5
}
