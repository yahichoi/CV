{
 "cells": [
  {
   "cell_type": "code",
   "execution_count": null,
   "id": "2b50a6b6",
   "metadata": {},
   "outputs": [],
   "source": [
    "# 예제 4.1-3 프로그램\n",
    "\n",
    "import cv2\n",
    "\n",
    "# rgb 순서로 저장된 lena를 읽어 bgr 순서로 결합된 칼라영상 데이터 생성\n",
    "img = cv2.imread('lena.jpg', 1) \n",
    "b,g,r = cv2.split(img) # img 칼라영상 데이터를 b, g, r로 분리\n",
    "img1 = cv2.merge([r,g,b])  # rgb 순서로 결합된 칼라영상 데이터 생성\n",
    "\n",
    "# img 데이터의 채널1을 b, 채널2를 g, 채널3을 r로 간주하여 영상출력\n",
    "cv2.imshow('lena', img)  \n",
    "\n",
    "# img1의 경우 채널1의 r을 b로 읽어들임\n",
    "cv2.imshow('order-reversed lena', img1)\n",
    "\n",
    "# bgr 순서로 저장된 BGRlena 파일 생성 \n",
    "cv2.imwrite('BGRlena.jpg', img1)\n",
    "# img2 데이터의 채널1은 r, 채널2는 g, 채널3은 b 저장\n",
    "img2 = cv2.imread('BGRlena.jpg', 1) \n",
    "#채널1을 b, 채널2를 g, 채널3을 r로 간주하여 영상출력\n",
    "cv2.imshow('BGRlena', img2)   \n",
    "\n",
    "cv2.waitKey(0)\n",
    "cv2.destroyAllWindows()\n",
    "  "
   ]
  }
 ],
 "metadata": {
  "kernelspec": {
   "display_name": "Python 3 (ipykernel)",
   "language": "python",
   "name": "python3"
  },
  "language_info": {
   "codemirror_mode": {
    "name": "ipython",
    "version": 3
   },
   "file_extension": ".py",
   "mimetype": "text/x-python",
   "name": "python",
   "nbconvert_exporter": "python",
   "pygments_lexer": "ipython3",
   "version": "3.9.12"
  }
 },
 "nbformat": 4,
 "nbformat_minor": 5
}
