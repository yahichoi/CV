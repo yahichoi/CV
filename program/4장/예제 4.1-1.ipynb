{
 "cells": [
  {
   "cell_type": "code",
   "execution_count": null,
   "id": "a5870113",
   "metadata": {},
   "outputs": [],
   "source": [
    "# 예제 4.1-1 프로그램\n",
    "# 영상 출력\n",
    "\n",
    "import cv2\n",
    "\n",
    "image = cv2.imread('lena.jpg',1)\n",
    "cv2.imshow('lena', image)\n",
    "\n",
    "key = cv2.waitKey(0)\n",
    "cv2.destroyAllWindows()\n",
    "  "
   ]
  }
 ],
 "metadata": {
  "kernelspec": {
   "display_name": "Python 3 (ipykernel)",
   "language": "python",
   "name": "python3"
  },
  "language_info": {
   "codemirror_mode": {
    "name": "ipython",
    "version": 3
   },
   "file_extension": ".py",
   "mimetype": "text/x-python",
   "name": "python",
   "nbconvert_exporter": "python",
   "pygments_lexer": "ipython3",
   "version": "3.9.12"
  }
 },
 "nbformat": 4,
 "nbformat_minor": 5
}
