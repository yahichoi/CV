{
 "cells": [
  {
   "cell_type": "code",
   "execution_count": null,
   "id": "fc65dd54",
   "metadata": {},
   "outputs": [],
   "source": [
    "# 예제 4.3-1 프로그램\n",
    "\n",
    "import pandas as pd\n",
    "\n",
    "a = pd.Series([100, 80, 60, 50],\n",
    "              index=['서울','부산','대구','광주'])\n",
    "\n",
    "print(a, '\\n')\n",
    "print('a[0] =', a[0])\n",
    "print(\"a['서울'] =\", a['서울'])\n",
    "\n",
    "a.name = '인구'\n",
    "a.index.name = '도시'\n",
    "print('\\n', a)"
   ]
  }
 ],
 "metadata": {
  "kernelspec": {
   "display_name": "Python 3 (ipykernel)",
   "language": "python",
   "name": "python3"
  },
  "language_info": {
   "codemirror_mode": {
    "name": "ipython",
    "version": 3
   },
   "file_extension": ".py",
   "mimetype": "text/x-python",
   "name": "python",
   "nbconvert_exporter": "python",
   "pygments_lexer": "ipython3",
   "version": "3.9.12"
  }
 },
 "nbformat": 4,
 "nbformat_minor": 5
}
