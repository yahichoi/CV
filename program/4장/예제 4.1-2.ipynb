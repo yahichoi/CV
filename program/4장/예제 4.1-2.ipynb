{
 "cells": [
  {
   "cell_type": "code",
   "execution_count": null,
   "id": "a07c5029",
   "metadata": {},
   "outputs": [],
   "source": [
    "# 예제 4.1.-2 프로그램\n",
    "# 웹켐 동영상 출력\n",
    "\n",
    "import cv2\n",
    "\n",
    "cap = cv2.VideoCapture(0)\n",
    "\n",
    "if cap.isOpened() :\n",
    "\n",
    "    while(True):\n",
    "        ret, frame = cap.read() #Capture frame-by-frame\n",
    "        cv2.imshow('frame',frame)  #동영상 출력\n",
    "        \n",
    "        #'q'입력시 종료, waitKey()로 재생속도 조절\n",
    "        if cv2.waitKey(2) & 0xFF == ord('q'):\n",
    "            break\n",
    "else :\n",
    "    print('can not open camera')\n",
    "    \n",
    "cap.release()\n",
    "cv2.destroyAllWindows()\n",
    " "
   ]
  }
 ],
 "metadata": {
  "kernelspec": {
   "display_name": "Python 3 (ipykernel)",
   "language": "python",
   "name": "python3"
  },
  "language_info": {
   "codemirror_mode": {
    "name": "ipython",
    "version": 3
   },
   "file_extension": ".py",
   "mimetype": "text/x-python",
   "name": "python",
   "nbconvert_exporter": "python",
   "pygments_lexer": "ipython3",
   "version": "3.9.12"
  }
 },
 "nbformat": 4,
 "nbformat_minor": 5
}
