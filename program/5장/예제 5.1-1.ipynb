{
 "cells": [
  {
   "cell_type": "code",
   "execution_count": null,
   "id": "d02e65bd",
   "metadata": {},
   "outputs": [],
   "source": [
    "# 예제 5.1-1 프로그램\n",
    "# 회선 연산\n",
    "\n",
    "import cv2\n",
    "import numpy as np\n",
    "\n",
    "image = cv2.imread('lena.jpg')\n",
    "img = cv2.cvtColor(image, cv2.COLOR_BGR2GRAY)\n",
    "\n",
    "# 평균값 마스크  \n",
    "average1 = np.array([[1, 1, 1],\n",
    "                     [1, 1, 1],\n",
    "                     [1, 1, 1]])*(1/9)\n",
    "avg1_img= cv2.filter2D(img, -1, average1)\n",
    "\n",
    "average2 = np.array([[1, 1, 1, 1, 1],\n",
    "                     [1, 1, 1, 1, 1],\n",
    "                     [1, 1, 1, 1, 1],\n",
    "                     [1, 1, 1, 1, 1],\n",
    "                     [1, 1, 1, 1, 1]])*(1/25)\n",
    "avg2_img= cv2.filter2D(img, -1, average2)\n",
    "\n",
    "# 샤프님 마스크 \n",
    "sharpening = np.array([[0, -1, 0],\n",
    "                       [-1, 5, -1],\n",
    "                       [0, -1, 0]])\n",
    "sharp_img= cv2.filter2D(img, -1, sharpening)\n",
    "\n",
    "\n",
    "# 결과 출력\n",
    "print('입력영상 크기:', img.shape)\n",
    "print('결과영상 크기:', avg1_img.shape)\n",
    "\n",
    "cv2.imshow('input image', img)\n",
    "cv2.imshow('blurred 3x3', avg1_img)\n",
    "cv2.imshow('blurred 5x5', avg2_img)\n",
    "cv2.imshow('sharpened', sharp_img)\n",
    "\n",
    "cv2.waitKey(0)\n",
    "cv2.destroyAllWindows()"
   ]
  }
 ],
 "metadata": {
  "kernelspec": {
   "display_name": "Python 3 (ipykernel)",
   "language": "python",
   "name": "python3"
  },
  "language_info": {
   "codemirror_mode": {
    "name": "ipython",
    "version": 3
   },
   "file_extension": ".py",
   "mimetype": "text/x-python",
   "name": "python",
   "nbconvert_exporter": "python",
   "pygments_lexer": "ipython3",
   "version": "3.9.12"
  }
 },
 "nbformat": 4,
 "nbformat_minor": 5
}
