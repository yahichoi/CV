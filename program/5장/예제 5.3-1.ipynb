{
 "cells": [
  {
   "cell_type": "code",
   "execution_count": null,
   "id": "6d23d040",
   "metadata": {},
   "outputs": [],
   "source": [
    "# 예제 5.3-1 프로그램\n",
    "# 미디언 블러링 (blur_median.py)\n",
    "\n",
    "import cv2\n",
    "import numpy as np\n",
    "\n",
    "img = cv2.imread(\"lena-salt-pepper.ppm\",cv2.IMREAD_GRAYSCALE)\n",
    "\n",
    "# 미디언 블러 적용 \n",
    "blur1 = cv2.medianBlur(img, 3)\n",
    "blur2 = cv2.medianBlur(blur1, 3)\n",
    "\n",
    "# 결과 출력 \n",
    "cv2.imshow('input', img)\n",
    "cv2.imshow('median once', blur1)\n",
    "cv2.imshow('median twice', blur2)\n",
    "\n",
    "cv2.waitKey(0)\n",
    "cv2.destroyAllWindows()"
   ]
  }
 ],
 "metadata": {
  "kernelspec": {
   "display_name": "Python 3 (ipykernel)",
   "language": "python",
   "name": "python3"
  },
  "language_info": {
   "codemirror_mode": {
    "name": "ipython",
    "version": 3
   },
   "file_extension": ".py",
   "mimetype": "text/x-python",
   "name": "python",
   "nbconvert_exporter": "python",
   "pygments_lexer": "ipython3",
   "version": "3.9.12"
  }
 },
 "nbformat": 4,
 "nbformat_minor": 5
}
