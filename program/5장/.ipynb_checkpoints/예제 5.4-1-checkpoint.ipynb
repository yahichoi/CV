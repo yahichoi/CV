{
 "cells": [
  {
   "cell_type": "code",
   "execution_count": null,
   "id": "74fc917c",
   "metadata": {},
   "outputs": [],
   "source": [
    "# 예제 5.4-1 프로그램\n",
    "import cv2\n",
    "\n",
    "img = cv2.imread('lena.jpg')\n",
    "img = cv2.resize(img, dsize=(256,256))\n",
    "\n",
    "# 가우시안 이미지 피라미드 축소\n",
    "small1 = cv2.pyrDown(img) # img x 1/4\n",
    "small2 = cv2.pyrDown(small1) \n",
    "\n",
    "# 결과 출력\n",
    "print('shape of input =', img.shape)\n",
    "cv2.imshow('img', img)\n",
    "\n",
    "print('shape of small1 =', small1.shape)\n",
    "cv2.imshow('pyrDown-1', small1)\n",
    "\n",
    "print('shape of small2 =', small2.shape)\n",
    "cv2.imshow('pyrDown-2', small2)\n",
    "\n",
    "cv2.waitKey(0)\n",
    "cv2.destroyAllWindows()\n"
   ]
  }
 ],
 "metadata": {
  "kernelspec": {
   "display_name": "Python 3 (ipykernel)",
   "language": "python",
   "name": "python3"
  },
  "language_info": {
   "codemirror_mode": {
    "name": "ipython",
    "version": 3
   },
   "file_extension": ".py",
   "mimetype": "text/x-python",
   "name": "python",
   "nbconvert_exporter": "python",
   "pygments_lexer": "ipython3",
   "version": "3.9.12"
  }
 },
 "nbformat": 4,
 "nbformat_minor": 5
}
