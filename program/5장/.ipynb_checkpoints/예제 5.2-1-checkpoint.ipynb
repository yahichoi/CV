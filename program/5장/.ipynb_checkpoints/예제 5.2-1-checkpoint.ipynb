{
 "cells": [
  {
   "cell_type": "code",
   "execution_count": null,
   "id": "ebcc8223",
   "metadata": {},
   "outputs": [],
   "source": [
    "# 예제 5.2-1 프로그램\n",
    "# 가우시안 블러링 (blur_gaussian.py)\n",
    "\n",
    "import cv2\n",
    "import numpy as np\n",
    "\n",
    "image = cv2.imread('lena.jpg')\n",
    "img = cv2.cvtColor(image, cv2.COLOR_BGR2GRAY)\n",
    "\n",
    "# 가우시안 커널을 API로 얻어서 블러링 \n",
    "kernel1d = cv2.getGaussianKernel(3, 0.5)\n",
    "kernel2d = kernel1d*kernel1d.T\n",
    "print(kernel2d, '\\n')\n",
    "\n",
    "blur1= cv2.filter2D(img, -1, kernel2d)\n",
    "\n",
    "kernel1d = cv2.getGaussianKernel(3, 3.5)\n",
    "kernel2d = kernel1d*kernel1d.T\n",
    "print(kernel2d,'\\n')\n"
   ]
  }
 ],
 "metadata": {
  "kernelspec": {
   "display_name": "Python 3 (ipykernel)",
   "language": "python",
   "name": "python3"
  },
  "language_info": {
   "codemirror_mode": {
    "name": "ipython",
    "version": 3
   },
   "file_extension": ".py",
   "mimetype": "text/x-python",
   "name": "python",
   "nbconvert_exporter": "python",
   "pygments_lexer": "ipython3",
   "version": "3.9.12"
  }
 },
 "nbformat": 4,
 "nbformat_minor": 5
}
