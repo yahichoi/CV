{
 "cells": [
  {
   "cell_type": "code",
   "execution_count": null,
   "id": "78b6884b",
   "metadata": {},
   "outputs": [],
   "source": [
    "# (예제 5.4-2) 프로그램\n",
    "\n",
    "import cv2\n",
    "import numpy as np\n",
    "\n",
    "img = cv2.imread('lena.jpg')\n",
    "gaussian0 = cv2.resize(img, dsize=(256,256))\n",
    "\n",
    "# 가우시안 피라미드 \n",
    "gaussian1 = cv2.pyrDown(gaussian0) # img x 1/4\n",
    "gaussian2 = cv2.pyrDown(gaussian1) \n",
    "\n",
    "# 라플라시안 피라미드\n",
    "laplacian2 = gaussian2.copy()\n",
    "laplacian1 = gaussian1 - cv2.pyrUp(gaussian2)\n",
    "laplacian0 = gaussian0 - cv2.pyrUp(gaussian1)\n",
    "\n",
    "# 확대 한 영상에 라플라시안 영상 더해서 영상 복원\n",
    "restored1 = laplacian1 + cv2.pyrUp(laplacian2)\n",
    "restored0 = laplacian0 + cv2.pyrUp(restored1)\n",
    "\n",
    "# 영상 출력\n",
    "cv2.imshow('Laplacian0', laplacian0)\n",
    "cv2.imshow('Laplacian1', laplacian1)\n",
    "cv2.imshow('Laplacian2', laplacian2)\n",
    "\n",
    "cv2.imshow('Restored0', restored0)\n",
    "cv2.imshow('Original',gaussian0)\n",
    "\n",
    "cv2.waitKey(0)\n",
    "cv2.destroyAllWindows()\n"
   ]
  }
 ],
 "metadata": {
  "kernelspec": {
   "display_name": "Python 3 (ipykernel)",
   "language": "python",
   "name": "python3"
  },
  "language_info": {
   "codemirror_mode": {
    "name": "ipython",
    "version": 3
   },
   "file_extension": ".py",
   "mimetype": "text/x-python",
   "name": "python",
   "nbconvert_exporter": "python",
   "pygments_lexer": "ipython3",
   "version": "3.9.12"
  }
 },
 "nbformat": 4,
 "nbformat_minor": 5
}
