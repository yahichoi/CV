{
 "cells": [
  {
   "cell_type": "code",
   "execution_count": null,
   "id": "efc7e3ff",
   "metadata": {},
   "outputs": [],
   "source": [
    "# (예제 5.4-3) 프로그램\n",
    "# 스케일 공간\n",
    "\n",
    "import cv2\n",
    "import numpy as np\n",
    "import matplotlib.pyplot as plt\n",
    "\n",
    "image = cv2.imread('lena.jpg',0)\n",
    "img = cv2.resize(image, dsize=(256,256))\n",
    "\n",
    "# 가우시안 커널로 블러링 \n",
    "kernel1d = cv2.getGaussianKernel(3, 1.6)\n",
    "kernel2d = kernel1d*kernel1d.T\n",
    "\n",
    "blur1 = cv2.filter2D(img, -1, kernel2d)\n",
    "blur2 = cv2.filter2D(blur1, -1, kernel2d)\n",
    "blur3 = cv2.filter2D(blur2, -1, kernel2d)\n",
    "\n",
    "# 결과 출력\n",
    "titles =['Original','simga1=1.6','sigma2=2.26','sigma3=3.2'] \n",
    "images = [img, blur1, blur2,blur3]  \n",
    "\n",
    "plt.figure(figsize=(6,6))\n",
    "for i in range(4) :\n",
    "    plt.subplot(2,2,i+1)\n",
    "    plt.imshow(images[i],'gray') # 각 이미지 출력\n",
    "    plt.title(titles[i]) # 제목 부착\n",
    "    plt.xticks([])\n",
    "    plt.yticks([]) # x, y축의 수치 제거\n",
    "plt.show\n"
   ]
  }
 ],
 "metadata": {
  "kernelspec": {
   "display_name": "Python 3 (ipykernel)",
   "language": "python",
   "name": "python3"
  },
  "language_info": {
   "codemirror_mode": {
    "name": "ipython",
    "version": 3
   },
   "file_extension": ".py",
   "mimetype": "text/x-python",
   "name": "python",
   "nbconvert_exporter": "python",
   "pygments_lexer": "ipython3",
   "version": "3.9.12"
  }
 },
 "nbformat": 4,
 "nbformat_minor": 5
}
